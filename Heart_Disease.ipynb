{
  "nbformat": 4,
  "nbformat_minor": 0,
  "metadata": {
    "colab": {
      "provenance": []
    },
    "kernelspec": {
      "name": "python3",
      "display_name": "Python 3"
    },
    "language_info": {
      "name": "python"
    }
  },
  "cells": [
    {
      "cell_type": "markdown",
      "source": [
        "**Step 1: Load and Preprocess the Data**"
      ],
      "metadata": {
        "id": "XnU9HeCb9diO"
      }
    },
    {
      "cell_type": "code",
      "source": [
        "import pandas as pd\n",
        "\n",
        "# Load the dataset\n",
        "data = pd.read_csv('/content/Heart Disease - Heart Disease.csv')\n",
        "\n",
        "# Display basic information about the dataset\n",
        "print(data.info())"
      ],
      "metadata": {
        "colab": {
          "base_uri": "https://localhost:8080/"
        },
        "id": "d9KZ1Piz9l78",
        "outputId": "08c549e7-7cbd-4b0b-8395-9ddc1fea034d"
      },
      "execution_count": 1,
      "outputs": [
        {
          "output_type": "stream",
          "name": "stdout",
          "text": [
            "<class 'pandas.core.frame.DataFrame'>\n",
            "RangeIndex: 100833 entries, 0 to 100832\n",
            "Data columns (total 18 columns):\n",
            " #   Column            Non-Null Count   Dtype  \n",
            "---  ------            --------------   -----  \n",
            " 0   HeartDisease      100833 non-null  object \n",
            " 1   BMI               100833 non-null  float64\n",
            " 2   Smoking           100833 non-null  object \n",
            " 3   AlcoholDrinking   100833 non-null  object \n",
            " 4   Stroke            100833 non-null  object \n",
            " 5   PhysicalHealth    100833 non-null  int64  \n",
            " 6   MentalHealth      100833 non-null  int64  \n",
            " 7   DiffWalking       100833 non-null  object \n",
            " 8   Sex               100833 non-null  object \n",
            " 9   AgeCategory       100833 non-null  object \n",
            " 10  Race              100832 non-null  object \n",
            " 11  Diabetic          100832 non-null  object \n",
            " 12  PhysicalActivity  100832 non-null  object \n",
            " 13  GenHealth         100832 non-null  object \n",
            " 14  SleepTime         100832 non-null  float64\n",
            " 15  Asthma            100832 non-null  object \n",
            " 16  KidneyDisease     100832 non-null  object \n",
            " 17  SkinCancer        100832 non-null  object \n",
            "dtypes: float64(2), int64(2), object(14)\n",
            "memory usage: 13.8+ MB\n",
            "None\n"
          ]
        }
      ]
    },
    {
      "cell_type": "markdown",
      "source": [
        "**Step 2: Data Cleaning and Transformation**"
      ],
      "metadata": {
        "id": "1TOHyoKO-c90"
      }
    },
    {
      "cell_type": "code",
      "source": [
        "from sklearn.preprocessing import LabelEncoder\n",
        "\n",
        "# Convert categorical variables to numerical using label encoding\n",
        "label_encoder = LabelEncoder()\n",
        "\n",
        "categorical_columns = ['Smoking', 'AlcoholDrinking', 'Stroke', 'DiffWalking', 'Diabetic', 'PhysicalActivity', 'GenHealth', 'Asthma', 'KidneyDisease', 'SkinCancer']\n",
        "for col in categorical_columns:\n",
        "    data[col] = label_encoder.fit_transform(data[col])\n",
        "\n",
        "# Convert categorical variables to numerical using one-hot encoding\n",
        "data = pd.get_dummies(data, columns=['Sex', 'AgeCategory', 'Race'], drop_first=True)\n",
        "\n",
        "# Convert 'HeartDisease' column to binary (1: Yes, 0: No)\n",
        "data['HeartDisease'] = data['HeartDisease'].apply(lambda x: 1 if x == 'Yes' else 0)\n",
        "\n",
        "# Check for missing values and handle them if necessary\n",
        "print(data.isnull().sum())\n",
        "\n",
        "# Normalize numerical features\n",
        "from sklearn.preprocessing import StandardScaler\n",
        "scaler = StandardScaler()\n",
        "numerical_columns = ['BMI', 'PhysicalHealth', 'MentalHealth', 'SleepTime']\n",
        "data[numerical_columns] = scaler.fit_transform(data[numerical_columns])"
      ],
      "metadata": {
        "colab": {
          "base_uri": "https://localhost:8080/"
        },
        "id": "re6sezRH-lwj",
        "outputId": "a0bd58f8-c72a-410b-c416-2b8f26ce543c"
      },
      "execution_count": 2,
      "outputs": [
        {
          "output_type": "stream",
          "name": "stdout",
          "text": [
            "HeartDisease               0\n",
            "BMI                        0\n",
            "Smoking                    0\n",
            "AlcoholDrinking            0\n",
            "Stroke                     0\n",
            "PhysicalHealth             0\n",
            "MentalHealth               0\n",
            "DiffWalking                0\n",
            "Diabetic                   0\n",
            "PhysicalActivity           0\n",
            "GenHealth                  0\n",
            "SleepTime                  1\n",
            "Asthma                     0\n",
            "KidneyDisease              0\n",
            "SkinCancer                 0\n",
            "Sex_Male                   0\n",
            "AgeCategory_25-29          0\n",
            "AgeCategory_30-34          0\n",
            "AgeCategory_35-39          0\n",
            "AgeCategory_40-44          0\n",
            "AgeCategory_45-49          0\n",
            "AgeCategory_50-54          0\n",
            "AgeCategory_55-59          0\n",
            "AgeCategory_60-64          0\n",
            "AgeCategory_65-69          0\n",
            "AgeCategory_70-74          0\n",
            "AgeCategory_75-79          0\n",
            "AgeCategory_80 or older    0\n",
            "Race_Asian                 0\n",
            "Race_Black                 0\n",
            "Race_Hispanic              0\n",
            "Race_Other                 0\n",
            "Race_White                 0\n",
            "dtype: int64\n"
          ]
        }
      ]
    },
    {
      "cell_type": "markdown",
      "source": [
        "**Step 3: Balance the Classes (Fix Class Imbalance)**"
      ],
      "metadata": {
        "id": "bzyaGqD3-vg2"
      }
    },
    {
      "cell_type": "code",
      "source": [
        "from imblearn.under_sampling import RandomUnderSampler\n",
        "\n",
        "# Separate features and target variable\n",
        "X = data.drop(columns=['HeartDisease'])\n",
        "y = data['HeartDisease']\n",
        "\n",
        "# Apply random undersampling to balance the classes\n",
        "rus = RandomUnderSampler(random_state=42)\n",
        "X_resampled, y_resampled = rus.fit_resample(X, y)"
      ],
      "metadata": {
        "id": "XLt_bjX--2Nd"
      },
      "execution_count": 3,
      "outputs": []
    },
    {
      "cell_type": "markdown",
      "source": [
        "**Step 4: Feature Importance Analysis using Random Forest**"
      ],
      "metadata": {
        "id": "H8lSotzn-9hf"
      }
    },
    {
      "cell_type": "code",
      "source": [
        "from sklearn.ensemble import RandomForestClassifier\n",
        "import matplotlib.pyplot as plt\n",
        "\n",
        "# Train a Random Forest classifier\n",
        "rf_classifier = RandomForestClassifier(random_state=42)\n",
        "rf_classifier.fit(X_resampled, y_resampled)\n",
        "\n",
        "# Feature importances\n",
        "feature_importances = pd.Series(rf_classifier.feature_importances_, index=X.columns)\n",
        "\n",
        "# Plot feature importances\n",
        "plt.figure(figsize=(10, 6))\n",
        "feature_importances.sort_values(ascending=False).plot(kind='bar')\n",
        "plt.title('Feature Importances')\n",
        "plt.show()"
      ],
      "metadata": {
        "colab": {
          "base_uri": "https://localhost:8080/",
          "height": 704
        },
        "id": "oOIB7GYL_ESF",
        "outputId": "168a698c-475c-44d7-8fd3-b5474fd86d5e"
      },
      "execution_count": 4,
      "outputs": [
        {
          "output_type": "display_data",
          "data": {
            "text/plain": [
              "<Figure size 1000x600 with 1 Axes>"
            ],
            "image/png": "[encoded data removed]"
          },
          "metadata": {}
        }
      ]
    },
    {
      "cell_type": "code",
      "source": [
        "# Train a Random Forest classifier\n",
        "rf_classifier = RandomForestClassifier(random_state=42)\n",
        "rf_classifier.fit(X_resampled, y_resampled)\n",
        "\n",
        "# Get feature importances\n",
        "feature_importances = rf_classifier.feature_importances_\n",
        "\n",
        "# Display feature importances for each feature\n",
        "for feature_name, importance in zip(X.columns, feature_importances):\n",
        "    print(f\"{feature_name}: {importance}\")"
      ],
      "metadata": {
        "colab": {
          "base_uri": "https://localhost:8080/"
        },
        "id": "ChcSp1Xr_PCM",
        "outputId": "52c8ba88-6d6e-4d39-ab5c-f95ee265b176"
      },
      "execution_count": 5,
      "outputs": [
        {
          "output_type": "stream",
          "name": "stdout",
          "text": [
            "BMI: 0.20773543119796611\n",
            "Smoking: 0.029689376659355903\n",
            "AlcoholDrinking: 0.010500490025898373\n",
            "Stroke: 0.03227133496293034\n",
            "PhysicalHealth: 0.07249780465979706\n",
            "MentalHealth: 0.054245386736276595\n",
            "DiffWalking: 0.0429042931643079\n",
            "Diabetic: 0.05139007810284225\n",
            "PhysicalActivity: 0.02363721229373664\n",
            "GenHealth: 0.08761059184901239\n",
            "SleepTime: 0.0856854028080555\n",
            "Asthma: 0.01891904974116709\n",
            "KidneyDisease: 0.01863136807828416\n",
            "SkinCancer: 0.019541788463066426\n",
            "Sex_Male: 0.02947127196981657\n",
            "AgeCategory_25-29: 0.009892057021638374\n",
            "AgeCategory_30-34: 0.008663716827086915\n",
            "AgeCategory_35-39: 0.009609968987971243\n",
            "AgeCategory_40-44: 0.008863495390335312\n",
            "AgeCategory_45-49: 0.008486447193609623\n",
            "AgeCategory_50-54: 0.009481044290997602\n",
            "AgeCategory_55-59: 0.01028663808112333\n",
            "AgeCategory_60-64: 0.013646875764444344\n",
            "AgeCategory_65-69: 0.016932876627181917\n",
            "AgeCategory_70-74: 0.020173438811211555\n",
            "AgeCategory_75-79: 0.020943516879188374\n",
            "AgeCategory_80 or older: 0.033877893242393896\n",
            "Race_Asian: 0.004516796121150181\n",
            "Race_Black: 0.009867370884688012\n",
            "Race_Hispanic: 0.00821380058173781\n",
            "Race_Other: 0.0062399025314256295\n",
            "Race_White: 0.015573280051302657\n"
          ]
        }
      ]
    },
    {
      "cell_type": "markdown",
      "source": [
        "# FEATURE ANALYSIS:\n",
        "\n",
        "1.BMI,\n",
        "2.PhysicalHealth,\n",
        "3.GenHealth,\n",
        "4.SleepTime,\n",
        "5.MentalHealth,\n",
        "6.AgeCategory_80 or older,\n",
        "7.DiffWalking,\n",
        "8.AgeCategory_70-74,\n",
        "9.AgeCategory_75-79,\n",
        "10.AgeCategory_60-64,\n",
        "11.Stroke,\n",
        "12.Diabetic.\n",
        "#These features have relatively higher importance values and are likely to have a more significant effect on the likelihood of heart disease based on the Random Forest analysis."
      ],
      "metadata": {
        "id": "xoOPJlzR_cTJ"
      }
    },
    {
      "cell_type": "markdown",
      "source": [
        "**Logistic Regression, SVM Classifier, K Neighbors Classifier, XGB Classifier, AdaBoost Classifier, Random Forest Classifier, Decision Tree Classifier, MLP Classifier**"
      ],
      "metadata": {
        "id": "pJPyE3fhAA3I"
      }
    },
    {
      "cell_type": "code",
      "source": [
        "import warnings\n",
        "warnings.filterwarnings(\"ignore\")\n",
        "\n",
        "from sklearn.model_selection import train_test_split\n",
        "from sklearn.linear_model import LogisticRegression\n",
        "from sklearn.svm import SVC\n",
        "from sklearn.neighbors import KNeighborsClassifier\n",
        "from xgboost import XGBClassifier\n",
        "from sklearn.ensemble import AdaBoostClassifier, RandomForestClassifier\n",
        "from sklearn.tree import DecisionTreeClassifier\n",
        "from sklearn.neural_network import MLPClassifier\n",
        "from sklearn.metrics import classification_report\n",
        "\n",
        "# Split the data into training and testing sets\n",
        "X_train, X_test, y_train, y_test = train_test_split(X_resampled, y_resampled, test_size=0.2, random_state=42)\n",
        "\n",
        "# Initialize classifiers\n",
        "classifiers = {\n",
        "    'Logistic Regression': LogisticRegression(),\n",
        "    'SVM': SVC(),\n",
        "    'k-Nearest Neighbors': KNeighborsClassifier(),\n",
        "    'XGBoost': XGBClassifier(),\n",
        "    'AdaBoost': AdaBoostClassifier(),\n",
        "    'Decision Tree': DecisionTreeClassifier(),\n",
        "    'Random Forest': RandomForestClassifier(),\n",
        "    'ANN': MLPClassifier(hidden_layer_sizes=(64, 32), max_iter=1000, random_state=42)\n",
        "}\n",
        "\n",
        "# Train and evaluate each classifier\n",
        "for name, clf in classifiers.items():\n",
        "    clf.fit(X_train, y_train)\n",
        "    y_pred = clf.predict(X_test)\n",
        "\n",
        "    accuracy = clf.score(X_test, y_test)\n",
        "    report = classification_report(y_test, y_pred)\n",
        "\n",
        "    print(f\"Classifier: {name}\")\n",
        "    print(f\"Accuracy: {accuracy:.4f}\")\n",
        "    print(f\"Classification Report:\\n{report}\\n{'='*50}\\n\") #0: No Heart Disease, 1: Heart Disease\n"
      ],
      "metadata": {
        "colab": {
          "base_uri": "https://localhost:8080/"
        },
        "id": "4WnzOoseADuk",
        "outputId": "fa9491e4-30f1-436f-9ff8-0d5f5cf8f84d"
      },
      "execution_count": 6,
      "outputs": [
        {
          "output_type": "stream",
          "name": "stdout",
          "text": [
            "Classifier: Logistic Regression\n",
            "Accuracy: 0.7366\n",
            "Classification Report:\n",
            "              precision    recall  f1-score   support\n",
            "\n",
            "           0       0.74      0.72      0.73      1721\n",
            "           1       0.73      0.75      0.74      1742\n",
            "\n",
            "    accuracy                           0.74      3463\n",
            "   macro avg       0.74      0.74      0.74      3463\n",
            "weighted avg       0.74      0.74      0.74      3463\n",
            "\n",
            "==================================================\n",
            "\n",
            "Classifier: SVM\n",
            "Accuracy: 0.7554\n",
            "Classification Report:\n",
            "              precision    recall  f1-score   support\n",
            "\n",
            "           0       0.78      0.70      0.74      1721\n",
            "           1       0.73      0.81      0.77      1742\n",
            "\n",
            "    accuracy                           0.76      3463\n",
            "   macro avg       0.76      0.76      0.75      3463\n",
            "weighted avg       0.76      0.76      0.75      3463\n",
            "\n",
            "==================================================\n",
            "\n",
            "Classifier: k-Nearest Neighbors\n",
            "Accuracy: 0.7202\n",
            "Classification Report:\n",
            "              precision    recall  f1-score   support\n",
            "\n",
            "           0       0.72      0.72      0.72      1721\n",
            "           1       0.72      0.72      0.72      1742\n",
            "\n",
            "    accuracy                           0.72      3463\n",
            "   macro avg       0.72      0.72      0.72      3463\n",
            "weighted avg       0.72      0.72      0.72      3463\n",
            "\n",
            "==================================================\n",
            "\n",
            "Classifier: XGBoost\n",
            "Accuracy: 0.7381\n",
            "Classification Report:\n",
            "              precision    recall  f1-score   support\n",
            "\n",
            "           0       0.75      0.72      0.73      1721\n",
            "           1       0.73      0.76      0.74      1742\n",
            "\n",
            "    accuracy                           0.74      3463\n",
            "   macro avg       0.74      0.74      0.74      3463\n",
            "weighted avg       0.74      0.74      0.74      3463\n",
            "\n",
            "==================================================\n",
            "\n",
            "Classifier: AdaBoost\n",
            "Accuracy: 0.7488\n",
            "Classification Report:\n",
            "              precision    recall  f1-score   support\n",
            "\n",
            "           0       0.75      0.74      0.75      1721\n",
            "           1       0.75      0.75      0.75      1742\n",
            "\n",
            "    accuracy                           0.75      3463\n",
            "   macro avg       0.75      0.75      0.75      3463\n",
            "weighted avg       0.75      0.75      0.75      3463\n",
            "\n",
            "==================================================\n",
            "\n",
            "Classifier: Decision Tree\n",
            "Accuracy: 0.6633\n",
            "Classification Report:\n",
            "              precision    recall  f1-score   support\n",
            "\n",
            "           0       0.66      0.67      0.66      1721\n",
            "           1       0.67      0.66      0.66      1742\n",
            "\n",
            "    accuracy                           0.66      3463\n",
            "   macro avg       0.66      0.66      0.66      3463\n",
            "weighted avg       0.66      0.66      0.66      3463\n",
            "\n",
            "==================================================\n",
            "\n",
            "Classifier: Random Forest\n",
            "Accuracy: 0.7424\n",
            "Classification Report:\n",
            "              precision    recall  f1-score   support\n",
            "\n",
            "           0       0.75      0.72      0.73      1721\n",
            "           1       0.73      0.77      0.75      1742\n",
            "\n",
            "    accuracy                           0.74      3463\n",
            "   macro avg       0.74      0.74      0.74      3463\n",
            "weighted avg       0.74      0.74      0.74      3463\n",
            "\n",
            "==================================================\n",
            "\n",
            "Classifier: ANN\n",
            "Accuracy: 0.6954\n",
            "Classification Report:\n",
            "              precision    recall  f1-score   support\n",
            "\n",
            "           0       0.69      0.72      0.70      1721\n",
            "           1       0.71      0.68      0.69      1742\n",
            "\n",
            "    accuracy                           0.70      3463\n",
            "   macro avg       0.70      0.70      0.70      3463\n",
            "weighted avg       0.70      0.70      0.70      3463\n",
            "\n",
            "==================================================\n",
            "\n"
          ]
        }
      ]
    }
  ]
}