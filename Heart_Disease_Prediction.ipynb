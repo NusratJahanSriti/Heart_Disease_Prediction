{
  "nbformat": 4,
  "nbformat_minor": 0,
  "metadata": {
    "colab": {
      "provenance": []
    },
    "kernelspec": {
      "name": "python3",
      "display_name": "Python 3"
    },
    "language_info": {
      "name": "python"
    }
  },
  "cells": [
    {
      "cell_type": "code",
      "source": [
        "from sklearn.model_selection import train_test_split\n",
        "from sklearn.linear_model import LogisticRegression\n",
        "from sklearn.metrics import accuracy_score\n",
        "from sklearn.preprocessing import LabelEncoder\n",
        "from imblearn.under_sampling import RandomUnderSampler\n",
        "from sklearn.tree import DecisionTreeClassifier\n",
        "import numpy as np\n",
        "import pandas as pd\n",
        "from sklearn.preprocessing import StandardScaler\n",
        "from sklearn.naive_bayes import GaussianNB\n",
        "from sklearn.metrics import confusion_matrix,accuracy_score,roc_curve,classification_report\n",
        "from sklearn.neighbors import KNeighborsClassifier\n",
        "from sklearn.ensemble import AdaBoostClassifier, RandomForestClassifier\n",
        "from xgboost import  XGBClassifier\n",
        "import matplotlib.pyplot as plt\n",
        "%matplotlib inline\n",
        "from sklearn.svm import SVC"
      ],
      "metadata": {
        "id": "TsyggZtfdHjQ"
      },
      "execution_count": 179,
      "outputs": []
    },
    {
      "cell_type": "markdown",
      "source": [
        "**Data Collection and Processing**"
      ],
      "metadata": {
        "id": "NvBQUAR-da55"
      }
    },
    {
      "cell_type": "code",
      "source": [
        "# Loading the Csv\n",
        "heart_data = pd.read_csv('/content/Heart Disease - Heart Disease.csv')"
      ],
      "metadata": {
        "id": "KBFUxbTqaTdd"
      },
      "execution_count": 180,
      "outputs": []
    },
    {
      "cell_type": "code",
      "source": [
        "heart_data.head()"
      ],
      "metadata": {
        "colab": {
          "base_uri": "https://localhost:8080/",
          "height": 226
        },
        "id": "43UCvN-9ofX-",
        "outputId": "66860b2c-7b5c-440c-fa89-fd2317b466ec"
      },
      "execution_count": 181,
      "outputs": [
        {
          "output_type": "execute_result",
          "data": {
            "text/plain": [
              "  HeartDisease    BMI Smoking AlcoholDrinking Stroke  PhysicalHealth  \\\n",
              "0           No  16.60     Yes              No     No             3.0   \n",
              "1           No  20.34      No              No    Yes             0.0   \n",
              "2           No  26.58     Yes              No     No            20.0   \n",
              "3           No  24.21      No              No     No             0.0   \n",
              "4           No  23.71      No              No     No            28.0   \n",
              "\n",
              "   MentalHealth DiffWalking     Sex  AgeCategory   Race Diabetic  \\\n",
              "0          30.0          No  Female        55-59  White      Yes   \n",
              "1           0.0          No  Female  80 or older  White       No   \n",
              "2          30.0          No    Male        65-69  White      Yes   \n",
              "3           0.0          No  Female        75-79  White       No   \n",
              "4           0.0         Yes  Female        40-44  White       No   \n",
              "\n",
              "  PhysicalActivity  GenHealth  SleepTime Asthma KidneyDisease SkinCancer  \n",
              "0              Yes  Very good        5.0    Yes            No        Yes  \n",
              "1              Yes  Very good        7.0     No            No         No  \n",
              "2              Yes       Fair        8.0    Yes            No         No  \n",
              "3               No       Good        6.0     No            No        Yes  \n",
              "4              Yes  Very good        8.0     No            No         No  "
            ],
            "text/html": [
              "\n",
              "  <div id=\"df-b033e7e1-077b-4e4c-b89a-622fbf78cc93\" class=\"colab-df-container\">\n",
              "    <div>\n",
              "<style scoped>\n",
              "    .dataframe tbody tr th:only-of-type {\n",
              "        vertical-align: middle;\n",
              "    }\n",
              "\n",
              "    .dataframe tbody tr th {\n",
              "        vertical-align: top;\n",
              "    }\n",
              "\n",
              "    .dataframe thead th {\n",
              "        text-align: right;\n",
              "    }\n",
              "</style>\n",
              "<table border=\"1\" class=\"dataframe\">\n",
              "  <thead>\n",
              "    <tr style=\"text-align: right;\">\n",
              "      <th></th>\n",
              "      <th>HeartDisease</th>\n",
              "      <th>BMI</th>\n",
              "      <th>Smoking</th>\n",
              "      <th>AlcoholDrinking</th>\n",
              "      <th>Stroke</th>\n",
              "      <th>PhysicalHealth</th>\n",
              "      <th>MentalHealth</th>\n",
              "      <th>DiffWalking</th>\n",
              "      <th>Sex</th>\n",
              "      <th>AgeCategory</th>\n",
              "      <th>Race</th>\n",
              "      <th>Diabetic</th>\n",
              "      <th>PhysicalActivity</th>\n",
              "      <th>GenHealth</th>\n",
              "      <th>SleepTime</th>\n",
              "      <th>Asthma</th>\n",
              "      <th>KidneyDisease</th>\n",
              "      <th>SkinCancer</th>\n",
              "    </tr>\n",
              "  </thead>\n",
              "  <tbody>\n",
              "    <tr>\n",
              "      <th>0</th>\n",
              "      <td>No</td>\n",
              "      <td>16.60</td>\n",
              "      <td>Yes</td>\n",
              "      <td>No</td>\n",
              "      <td>No</td>\n",
              "      <td>3.0</td>\n",
              "      <td>30.0</td>\n",
              "      <td>No</td>\n",
              "      <td>Female</td>\n",
              "      <td>55-59</td>\n",
              "      <td>White</td>\n",
              "      <td>Yes</td>\n",
              "      <td>Yes</td>\n",
              "      <td>Very good</td>\n",
              "      <td>5.0</td>\n",
              "      <td>Yes</td>\n",
              "      <td>No</td>\n",
              "      <td>Yes</td>\n",
              "    </tr>\n",
              "    <tr>\n",
              "      <th>1</th>\n",
              "      <td>No</td>\n",
              "      <td>20.34</td>\n",
              "      <td>No</td>\n",
              "      <td>No</td>\n",
              "      <td>Yes</td>\n",
              "      <td>0.0</td>\n",
              "      <td>0.0</td>\n",
              "      <td>No</td>\n",
              "      <td>Female</td>\n",
              "      <td>80 or older</td>\n",
              "      <td>White</td>\n",
              "      <td>No</td>\n",
              "      <td>Yes</td>\n",
              "      <td>Very good</td>\n",
              "      <td>7.0</td>\n",
              "      <td>No</td>\n",
              "      <td>No</td>\n",
              "      <td>No</td>\n",
              "    </tr>\n",
              "    <tr>\n",
              "      <th>2</th>\n",
              "      <td>No</td>\n",
              "      <td>26.58</td>\n",
              "      <td>Yes</td>\n",
              "      <td>No</td>\n",
              "      <td>No</td>\n",
              "      <td>20.0</td>\n",
              "      <td>30.0</td>\n",
              "      <td>No</td>\n",
              "      <td>Male</td>\n",
              "      <td>65-69</td>\n",
              "      <td>White</td>\n",
              "      <td>Yes</td>\n",
              "      <td>Yes</td>\n",
              "      <td>Fair</td>\n",
              "      <td>8.0</td>\n",
              "      <td>Yes</td>\n",
              "      <td>No</td>\n",
              "      <td>No</td>\n",
              "    </tr>\n",
              "    <tr>\n",
              "      <th>3</th>\n",
              "      <td>No</td>\n",
              "      <td>24.21</td>\n",
              "      <td>No</td>\n",
              "      <td>No</td>\n",
              "      <td>No</td>\n",
              "      <td>0.0</td>\n",
              "      <td>0.0</td>\n",
              "      <td>No</td>\n",
              "      <td>Female</td>\n",
              "      <td>75-79</td>\n",
              "      <td>White</td>\n",
              "      <td>No</td>\n",
              "      <td>No</td>\n",
              "      <td>Good</td>\n",
              "      <td>6.0</td>\n",
              "      <td>No</td>\n",
              "      <td>No</td>\n",
              "      <td>Yes</td>\n",
              "    </tr>\n",
              "    <tr>\n",
              "      <th>4</th>\n",
              "      <td>No</td>\n",
              "      <td>23.71</td>\n",
              "      <td>No</td>\n",
              "      <td>No</td>\n",
              "      <td>No</td>\n",
              "      <td>28.0</td>\n",
              "      <td>0.0</td>\n",
              "      <td>Yes</td>\n",
              "      <td>Female</td>\n",
              "      <td>40-44</td>\n",
              "      <td>White</td>\n",
              "      <td>No</td>\n",
              "      <td>Yes</td>\n",
              "      <td>Very good</td>\n",
              "      <td>8.0</td>\n",
              "      <td>No</td>\n",
              "      <td>No</td>\n",
              "      <td>No</td>\n",
              "    </tr>\n",
              "  </tbody>\n",
              "</table>\n",
              "</div>\n",
              "    <div class=\"colab-df-buttons\">\n",
              "\n",
              "  <div class=\"colab-df-container\">\n",
              "    <button class=\"colab-df-convert\" onclick=\"convertToInteractive('df-b033e7e1-077b-4e4c-b89a-622fbf78cc93')\"\n",
              "            title=\"Convert this dataframe to an interactive table.\"\n",
              "            style=\"display:none;\">\n",
              "\n",
              "  <svg xmlns=\"http://www.w3.org/2000/svg\" height=\"24px\" viewBox=\"0 -960 960 960\">\n",
              "    <path d=\"M120-120v-720h720v720H120Zm60-500h600v-160H180v160Zm220 220h160v-160H400v160Zm0 220h160v-160H400v160ZM180-400h160v-160H180v160Zm440 0h160v-160H620v160ZM180-180h160v-160H180v160Zm440 0h160v-160H620v160Z\"/>\n",
              "  </svg>\n",
              "    </button>\n",
              "\n",
              "  <style>\n",
              "    .colab-df-container {\n",
              "      display:flex;\n",
              "      gap: 12px;\n",
              "    }\n",
              "\n",
              "    .colab-df-convert {\n",
              "      background-color: #E8F0FE;\n",
              "      border: none;\n",
              "      border-radius: 50%;\n",
              "      cursor: pointer;\n",
              "      display: none;\n",
              "      fill: #1967D2;\n",
              "      height: 32px;\n",
              "      padding: 0 0 0 0;\n",
              "      width: 32px;\n",
              "    }\n",
              "\n",
              "    .colab-df-convert:hover {\n",
              "      background-color: #E2EBFA;\n",
              "      box-shadow: 0px 1px 2px rgba(60, 64, 67, 0.3), 0px 1px 3px 1px rgba(60, 64, 67, 0.15);\n",
              "      fill: #174EA6;\n",
              "    }\n",
              "\n",
              "    .colab-df-buttons div {\n",
              "      margin-bottom: 4px;\n",
              "    }\n",
              "\n",
              "    [theme=dark] .colab-df-convert {\n",
              "      background-color: #3B4455;\n",
              "      fill: #D2E3FC;\n",
              "    }\n",
              "\n",
              "    [theme=dark] .colab-df-convert:hover {\n",
              "      background-color: #434B5C;\n",
              "      box-shadow: 0px 1px 3px 1px rgba(0, 0, 0, 0.15);\n",
              "      filter: drop-shadow(0px 1px 2px rgba(0, 0, 0, 0.3));\n",
              "      fill: #FFFFFF;\n",
              "    }\n",
              "  </style>\n",
              "\n",
              "    <script>\n",
              "      const buttonEl =\n",
              "        document.querySelector('#df-b033e7e1-077b-4e4c-b89a-622fbf78cc93 button.colab-df-convert');\n",
              "      buttonEl.style.display =\n",
              "        google.colab.kernel.accessAllowed ? 'block' : 'none';\n",
              "\n",
              "      async function convertToInteractive(key) {\n",
              "        const element = document.querySelector('#df-b033e7e1-077b-4e4c-b89a-622fbf78cc93');\n",
              "        const dataTable =\n",
              "          await google.colab.kernel.invokeFunction('convertToInteractive',\n",
              "                                                    [key], {});\n",
              "        if (!dataTable) return;\n",
              "\n",
              "        const docLinkHtml = 'Like what you see? Visit the ' +\n",
              "          '<a target=\"_blank\" href=https://colab.research.google.com/notebooks/data_table.ipynb>data table notebook</a>'\n",
              "          + ' to learn more about interactive tables.';\n",
              "        element.innerHTML = '';\n",
              "        dataTable['output_type'] = 'display_data';\n",
              "        await google.colab.output.renderOutput(dataTable, element);\n",
              "        const docLink = document.createElement('div');\n",
              "        docLink.innerHTML = docLinkHtml;\n",
              "        element.appendChild(docLink);\n",
              "      }\n",
              "    </script>\n",
              "  </div>\n",
              "\n",
              "\n",
              "<div id=\"df-8f70595b-114f-4bb2-9026-fac0d0faa7c3\">\n",
              "  <button class=\"colab-df-quickchart\" onclick=\"quickchart('df-8f70595b-114f-4bb2-9026-fac0d0faa7c3')\"\n",
              "            title=\"Suggest charts\"\n",
              "            style=\"display:none;\">\n",
              "\n",
              "<svg xmlns=\"http://www.w3.org/2000/svg\" height=\"24px\"viewBox=\"0 0 24 24\"\n",
              "     width=\"24px\">\n",
              "    <g>\n",
              "        <path d=\"M19 3H5c-1.1 0-2 .9-2 2v14c0 1.1.9 2 2 2h14c1.1 0 2-.9 2-2V5c0-1.1-.9-2-2-2zM9 17H7v-7h2v7zm4 0h-2V7h2v10zm4 0h-2v-4h2v4z\"/>\n",
              "    </g>\n",
              "</svg>\n",
              "  </button>\n",
              "\n",
              "<style>\n",
              "  .colab-df-quickchart {\n",
              "      --bg-color: #E8F0FE;\n",
              "      --fill-color: #1967D2;\n",
              "      --hover-bg-color: #E2EBFA;\n",
              "      --hover-fill-color: #174EA6;\n",
              "      --disabled-fill-color: #AAA;\n",
              "      --disabled-bg-color: #DDD;\n",
              "  }\n",
              "\n",
              "  [theme=dark] .colab-df-quickchart {\n",
              "      --bg-color: #3B4455;\n",
              "      --fill-color: #D2E3FC;\n",
              "      --hover-bg-color: #434B5C;\n",
              "      --hover-fill-color: #FFFFFF;\n",
              "      --disabled-bg-color: #3B4455;\n",
              "      --disabled-fill-color: #666;\n",
              "  }\n",
              "\n",
              "  .colab-df-quickchart {\n",
              "    background-color: var(--bg-color);\n",
              "    border: none;\n",
              "    border-radius: 50%;\n",
              "    cursor: pointer;\n",
              "    display: none;\n",
              "    fill: var(--fill-color);\n",
              "    height: 32px;\n",
              "    padding: 0;\n",
              "    width: 32px;\n",
              "  }\n",
              "\n",
              "  .colab-df-quickchart:hover {\n",
              "    background-color: var(--hover-bg-color);\n",
              "    box-shadow: 0 1px 2px rgba(60, 64, 67, 0.3), 0 1px 3px 1px rgba(60, 64, 67, 0.15);\n",
              "    fill: var(--button-hover-fill-color);\n",
              "  }\n",
              "\n",
              "  .colab-df-quickchart-complete:disabled,\n",
              "  .colab-df-quickchart-complete:disabled:hover {\n",
              "    background-color: var(--disabled-bg-color);\n",
              "    fill: var(--disabled-fill-color);\n",
              "    box-shadow: none;\n",
              "  }\n",
              "\n",
              "  .colab-df-spinner {\n",
              "    border: 2px solid var(--fill-color);\n",
              "    border-color: transparent;\n",
              "    border-bottom-color: var(--fill-color);\n",
              "    animation:\n",
              "      spin 1s steps(1) infinite;\n",
              "  }\n",
              "\n",
              "  @keyframes spin {\n",
              "    0% {\n",
              "      border-color: transparent;\n",
              "      border-bottom-color: var(--fill-color);\n",
              "      border-left-color: var(--fill-color);\n",
              "    }\n",
              "    20% {\n",
              "      border-color: transparent;\n",
              "      border-left-color: var(--fill-color);\n",
              "      border-top-color: var(--fill-color);\n",
              "    }\n",
              "    30% {\n",
              "      border-color: transparent;\n",
              "      border-left-color: var(--fill-color);\n",
              "      border-top-color: var(--fill-color);\n",
              "      border-right-color: var(--fill-color);\n",
              "    }\n",
              "    40% {\n",
              "      border-color: transparent;\n",
              "      border-right-color: var(--fill-color);\n",
              "      border-top-color: var(--fill-color);\n",
              "    }\n",
              "    60% {\n",
              "      border-color: transparent;\n",
              "      border-right-color: var(--fill-color);\n",
              "    }\n",
              "    80% {\n",
              "      border-color: transparent;\n",
              "      border-right-color: var(--fill-color);\n",
              "      border-bottom-color: var(--fill-color);\n",
              "    }\n",
              "    90% {\n",
              "      border-color: transparent;\n",
              "      border-bottom-color: var(--fill-color);\n",
              "    }\n",
              "  }\n",
              "</style>\n",
              "\n",
              "  <script>\n",
              "    async function quickchart(key) {\n",
              "      const quickchartButtonEl =\n",
              "        document.querySelector('#' + key + ' button');\n",
              "      quickchartButtonEl.disabled = true;  // To prevent multiple clicks.\n",
              "      quickchartButtonEl.classList.add('colab-df-spinner');\n",
              "      try {\n",
              "        const charts = await google.colab.kernel.invokeFunction(\n",
              "            'suggestCharts', [key], {});\n",
              "      } catch (error) {\n",
              "        console.error('Error during call to suggestCharts:', error);\n",
              "      }\n",
              "      quickchartButtonEl.classList.remove('colab-df-spinner');\n",
              "      quickchartButtonEl.classList.add('colab-df-quickchart-complete');\n",
              "    }\n",
              "    (() => {\n",
              "      let quickchartButtonEl =\n",
              "        document.querySelector('#df-8f70595b-114f-4bb2-9026-fac0d0faa7c3 button');\n",
              "      quickchartButtonEl.style.display =\n",
              "        google.colab.kernel.accessAllowed ? 'block' : 'none';\n",
              "    })();\n",
              "  </script>\n",
              "</div>\n",
              "    </div>\n",
              "  </div>\n"
            ]
          },
          "metadata": {},
          "execution_count": 181
        }
      ]
    },
    {
      "cell_type": "code",
      "source": [
        "heart_data.info()"
      ],
      "metadata": {
        "colab": {
          "base_uri": "https://localhost:8080/"
        },
        "id": "Kg-SKI76eTjg",
        "outputId": "786df632-1a9a-403c-daf9-b010895448d1"
      },
      "execution_count": 182,
      "outputs": [
        {
          "output_type": "stream",
          "name": "stdout",
          "text": [
            "<class 'pandas.core.frame.DataFrame'>\n",
            "RangeIndex: 115255 entries, 0 to 115254\n",
            "Data columns (total 18 columns):\n",
            " #   Column            Non-Null Count   Dtype  \n",
            "---  ------            --------------   -----  \n",
            " 0   HeartDisease      115255 non-null  object \n",
            " 1   BMI               115255 non-null  float64\n",
            " 2   Smoking           115255 non-null  object \n",
            " 3   AlcoholDrinking   115255 non-null  object \n",
            " 4   Stroke            115254 non-null  object \n",
            " 5   PhysicalHealth    115254 non-null  float64\n",
            " 6   MentalHealth      115254 non-null  float64\n",
            " 7   DiffWalking       115254 non-null  object \n",
            " 8   Sex               115254 non-null  object \n",
            " 9   AgeCategory       115254 non-null  object \n",
            " 10  Race              115254 non-null  object \n",
            " 11  Diabetic          115254 non-null  object \n",
            " 12  PhysicalActivity  115254 non-null  object \n",
            " 13  GenHealth         115254 non-null  object \n",
            " 14  SleepTime         115254 non-null  float64\n",
            " 15  Asthma            115254 non-null  object \n",
            " 16  KidneyDisease     115254 non-null  object \n",
            " 17  SkinCancer        115254 non-null  object \n",
            "dtypes: float64(4), object(14)\n",
            "memory usage: 15.8+ MB\n"
          ]
        }
      ]
    },
    {
      "cell_type": "code",
      "source": [
        "#  using label encoding\n",
        "label_encoder = LabelEncoder()\n"
      ],
      "metadata": {
        "id": "wqF5lTPvpFYF"
      },
      "execution_count": 183,
      "outputs": []
    },
    {
      "cell_type": "code",
      "source": [
        "categorical_columns = ['Smoking', 'AlcoholDrinking', 'Stroke', 'DiffWalking', 'Diabetic', 'PhysicalActivity', 'GenHealth', 'Asthma', 'KidneyDisease', 'SkinCancer']\n",
        "for col in categorical_columns:\n",
        "    heart_data[col] = label_encoder.fit_transform(heart_data[col])"
      ],
      "metadata": {
        "id": "Mb2VHEDtpsBu"
      },
      "execution_count": 184,
      "outputs": []
    },
    {
      "cell_type": "code",
      "source": [
        "# Normalize numerical features\n",
        "from sklearn.preprocessing import StandardScaler\n",
        "scaler = StandardScaler()\n",
        "numerical_columns = ['BMI', 'PhysicalHealth', 'MentalHealth', 'SleepTime']\n",
        "heart_data[numerical_columns] = scaler.fit_transform(heart_data[numerical_columns])\n"
      ],
      "metadata": {
        "id": "YONT0DQUqAYf"
      },
      "execution_count": 185,
      "outputs": []
    },
    {
      "cell_type": "code",
      "source": [
        "heart_data = pd.get_dummies(heart_data, columns=['Sex', 'AgeCategory', 'Race'], drop_first=True)\n"
      ],
      "metadata": {
        "id": "x7kiyfs8qcy3"
      },
      "execution_count": 186,
      "outputs": []
    },
    {
      "cell_type": "code",
      "source": [
        "#'HeartDisease' column to binary (1: Yes, 0: No)\n",
        "heart_data['HeartDisease'] = heart_data['HeartDisease'].apply(lambda x: 1 if x == 'Yes' else 0)\n"
      ],
      "metadata": {
        "id": "_s4fIvE8qtjF"
      },
      "execution_count": 187,
      "outputs": []
    },
    {
      "cell_type": "code",
      "source": [
        "# Check for missing values and handle them if necessary\n",
        "print(heart_data.isnull().sum())"
      ],
      "metadata": {
        "colab": {
          "base_uri": "https://localhost:8080/"
        },
        "id": "5U5buzBCrChG",
        "outputId": "05de3bf9-6521-47b0-9a47-c7b7cc0767c0"
      },
      "execution_count": 188,
      "outputs": [
        {
          "output_type": "stream",
          "name": "stdout",
          "text": [
            "HeartDisease               0\n",
            "BMI                        0\n",
            "Smoking                    0\n",
            "AlcoholDrinking            0\n",
            "Stroke                     0\n",
            "PhysicalHealth             1\n",
            "MentalHealth               1\n",
            "DiffWalking                0\n",
            "Diabetic                   0\n",
            "PhysicalActivity           0\n",
            "GenHealth                  0\n",
            "SleepTime                  1\n",
            "Asthma                     0\n",
            "KidneyDisease              0\n",
            "SkinCancer                 0\n",
            "Sex_Male                   0\n",
            "AgeCategory_25-29          0\n",
            "AgeCategory_30-34          0\n",
            "AgeCategory_35-39          0\n",
            "AgeCategory_40-44          0\n",
            "AgeCategory_45-49          0\n",
            "AgeCategory_50-54          0\n",
            "AgeCategory_55-59          0\n",
            "AgeCategory_60-64          0\n",
            "AgeCategory_65-69          0\n",
            "AgeCategory_70-74          0\n",
            "AgeCategory_75-79          0\n",
            "AgeCategory_80 or older    0\n",
            "Race_Asian                 0\n",
            "Race_Black                 0\n",
            "Race_Hispanic              0\n",
            "Race_Other                 0\n",
            "Race_White                 0\n",
            "dtype: int64\n"
          ]
        }
      ]
    },
    {
      "cell_type": "code",
      "source": [
        "# checking the distribution of the HeartDisease variable\n",
        "heart_data[\"HeartDisease\"].value_counts()"
      ],
      "metadata": {
        "colab": {
          "base_uri": "https://localhost:8080/"
        },
        "id": "0DL9kETpemug",
        "outputId": "430f2c6b-9944-480b-88e4-4d6bed6b6566"
      },
      "execution_count": 189,
      "outputs": [
        {
          "output_type": "execute_result",
          "data": {
            "text/plain": [
              "0    105171\n",
              "1     10084\n",
              "Name: HeartDisease, dtype: int64"
            ]
          },
          "metadata": {},
          "execution_count": 189
        }
      ]
    },
    {
      "cell_type": "markdown",
      "source": [
        "**Splitting the Features and Target**"
      ],
      "metadata": {
        "id": "dRKI30w0gvdB"
      }
    },
    {
      "cell_type": "code",
      "source": [
        "X = heart_data.drop(columns=['HeartDisease'])\n",
        "y = heart_data['HeartDisease']\n"
      ],
      "metadata": {
        "id": "7Ajovj--rxnv"
      },
      "execution_count": 190,
      "outputs": []
    },
    {
      "cell_type": "code",
      "source": [
        "rus = RandomUnderSampler(random_state=42)\n",
        "X_resampled, y_resampled = rus.fit_resample(X, y)"
      ],
      "metadata": {
        "id": "0mUIjYyWsMQ-"
      },
      "execution_count": 191,
      "outputs": []
    },
    {
      "cell_type": "code",
      "source": [
        "X.shape"
      ],
      "metadata": {
        "colab": {
          "base_uri": "https://localhost:8080/"
        },
        "id": "bfUqojaFhOkX",
        "outputId": "a6ec00b7-0843-4fc0-d73f-edd984af2311"
      },
      "execution_count": 192,
      "outputs": [
        {
          "output_type": "execute_result",
          "data": {
            "text/plain": [
              "(115255, 32)"
            ]
          },
          "metadata": {},
          "execution_count": 192
        }
      ]
    },
    {
      "cell_type": "code",
      "source": [
        "y.shape"
      ],
      "metadata": {
        "colab": {
          "base_uri": "https://localhost:8080/"
        },
        "id": "aYhMNQdJiJLh",
        "outputId": "1bdd48b2-afa5-4d44-fe3b-9c80ce07278d"
      },
      "execution_count": 193,
      "outputs": [
        {
          "output_type": "execute_result",
          "data": {
            "text/plain": [
              "(115255,)"
            ]
          },
          "metadata": {},
          "execution_count": 193
        }
      ]
    },
    {
      "cell_type": "code",
      "source": [
        "#Splitting the Data into Training & Test Data\n",
        "\n",
        "X_train, X_test, y_train, y_test = train_test_split(X_resampled, y_resampled, test_size=0.2, random_state=42)"
      ],
      "metadata": {
        "id": "uff113D-iPWX"
      },
      "execution_count": 194,
      "outputs": []
    },
    {
      "cell_type": "code",
      "source": [
        "X.shape, X_train.shape, X_test.shape"
      ],
      "metadata": {
        "colab": {
          "base_uri": "https://localhost:8080/"
        },
        "id": "rjdFJI_VlDZo",
        "outputId": "0b0a9079-b69f-4ff4-8ef4-0c452c0fb8f3"
      },
      "execution_count": 195,
      "outputs": [
        {
          "output_type": "execute_result",
          "data": {
            "text/plain": [
              "((115255, 32), (16134, 32), (4034, 32))"
            ]
          },
          "metadata": {},
          "execution_count": 195
        }
      ]
    },
    {
      "cell_type": "code",
      "source": [
        "y.shape, y_train.shape, y_test.shape"
      ],
      "metadata": {
        "colab": {
          "base_uri": "https://localhost:8080/"
        },
        "id": "-_g-dsoHlFCf",
        "outputId": "cb85fddc-b75a-4fd2-e64a-faca9b590ee1"
      },
      "execution_count": 196,
      "outputs": [
        {
          "output_type": "execute_result",
          "data": {
            "text/plain": [
              "((115255,), (16134,), (4034,))"
            ]
          },
          "metadata": {},
          "execution_count": 196
        }
      ]
    },
    {
      "cell_type": "markdown",
      "source": [
        "**Model Training**"
      ],
      "metadata": {
        "id": "DvgihW1ZlNYA"
      }
    },
    {
      "cell_type": "markdown",
      "source": [
        "Logistic Regression"
      ],
      "metadata": {
        "id": "r0isG66AxdPf"
      }
    },
    {
      "cell_type": "code",
      "source": [
        "m1=\"Logistic Regression\"\n",
        "lr_model = LogisticRegression(solver=\"liblinear\",random_state=2 )\n",
        "# training the model with training data\n",
        "lr_model.fit(X_train, y_train)\n",
        "# Accuracy on training data\n",
        "X_train_prediction = lr_model.predict(X_train)\n",
        "training_data_accuracy = accuracy_score(X_train_prediction,y_train)\n",
        "print(f\"Accuracy on Training data: \",training_data_accuracy*100)\n",
        "# Accuracy on test data\n",
        "X_test_prediction = lr_model.predict(X_test)\n",
        "test_data_accuracy_lr = accuracy_score(X_test_prediction, y_test)\n",
        "print(f\"Accuracy on Test data: \",test_data_accuracy_lr*100)\n",
        "\n",
        "#Confussion matrix\n",
        "LR_conf_matrix = confusion_matrix(y_test, X_test_prediction)\n",
        "print(\"Confussion matrix\")\n",
        "print(LR_conf_matrix)"
      ],
      "metadata": {
        "colab": {
          "base_uri": "https://localhost:8080/"
        },
        "id": "HFK4ufl4uMO1",
        "outputId": "00599914-b7f0-4942-928e-3b4fc81e9b04"
      },
      "execution_count": 197,
      "outputs": [
        {
          "output_type": "stream",
          "name": "stdout",
          "text": [
            "Accuracy on Training data:  75.22623032106111\n",
            "Accuracy on Test data:  75.6817055032226\n",
            "Confussion matrix\n",
            "[[1489  517]\n",
            " [ 464 1564]]\n"
          ]
        }
      ]
    },
    {
      "cell_type": "markdown",
      "source": [
        "Random Forest"
      ],
      "metadata": {
        "id": "0aqeRrVrx-7A"
      }
    },
    {
      "cell_type": "code",
      "source": [
        "m2=\"Random Forest\"\n",
        "rf = RandomForestClassifier(n_estimators=100, criterion=\"entropy\",max_depth=7, min_samples_leaf=2, max_features=\"sqrt\",random_state=2)\n",
        "# training the model with training data\n",
        "rf.fit(X_train,y_train)\n",
        "# Accuracy on training data\n",
        "X_train_prediction = rf.predict(X_train)\n",
        "training_data_accuracy = accuracy_score(X_train_prediction,y_train)\n",
        "print(f\"Accuracy on Training data: \",training_data_accuracy*100)\n",
        "\n",
        "# Accuracy on test data\n",
        "X_test_prediction = rf.predict(X_test)\n",
        "test_data_accuracy_rf = accuracy_score(X_test_prediction, y_test)\n",
        "print(f\"Accuracy on Test data: \",test_data_accuracy_rf*100)\n",
        "\n",
        "#Confussion matrix\n",
        "rf_conf_matrix = confusion_matrix(y_test, X_test_prediction)\n",
        "print(\"Confussion matrix\")\n",
        "print(rf_conf_matrix)"
      ],
      "metadata": {
        "colab": {
          "base_uri": "https://localhost:8080/"
        },
        "id": "1SevIIZTxlNF",
        "outputId": "2a33f958-741d-44f5-98b6-c2de56149eae"
      },
      "execution_count": 198,
      "outputs": [
        {
          "output_type": "stream",
          "name": "stdout",
          "text": [
            "Accuracy on Training data:  74.86674104375852\n",
            "Accuracy on Test data:  73.8968765493307\n",
            "Confussion matrix\n",
            "[[1468  538]\n",
            " [ 515 1513]]\n"
          ]
        }
      ]
    },
    {
      "cell_type": "markdown",
      "source": [
        "KNN"
      ],
      "metadata": {
        "id": "A084q9nxyHtV"
      }
    },
    {
      "cell_type": "code",
      "source": [
        "m3=\"K-Neighbour\"\n",
        "knn = KNeighborsClassifier(n_neighbors=20, algorithm=\"auto\" )\n",
        "# train on the training set\n",
        "knn.fit(X_train, y_train)\n",
        "# Accuracy on training data\n",
        "X_train_predict= knn.predict(X_train)\n",
        "training_data_accuracy=accuracy_score(X_train_predict, y_train)\n",
        "print(f\"Accuracy on Training data: \",training_data_accuracy*100)\n",
        "# Accuracy on test data\n",
        "X_test_predict= knn.predict(X_test)\n",
        "test_data_accuracy_knn=accuracy_score(X_test_predict, y_test)\n",
        "print(f\"Accuracy on Test data: \",test_data_accuracy_knn*100)\n",
        "#Confussion matrix\n",
        "knn_confusion_matrix=  confusion_matrix(y_test,X_test_predict)\n",
        "print(\"Confusion Matrix\")\n",
        "print(knn_confusion_matrix)"
      ],
      "metadata": {
        "colab": {
          "base_uri": "https://localhost:8080/"
        },
        "id": "evF8jOLeyaNl",
        "outputId": "d91f4323-b5b8-480a-99cf-354a0afccc2e"
      },
      "execution_count": 199,
      "outputs": [
        {
          "output_type": "stream",
          "name": "stdout",
          "text": [
            "Accuracy on Training data:  76.07536878641379\n",
            "Accuracy on Test data:  73.69856222112048\n",
            "Confusion Matrix\n",
            "[[1496  510]\n",
            " [ 551 1477]]\n"
          ]
        }
      ]
    },
    {
      "cell_type": "markdown",
      "source": [
        "XGB"
      ],
      "metadata": {
        "id": "dBYFxVQvy6E1"
      }
    },
    {
      "cell_type": "code",
      "source": [
        "m4=\"XGB\"\n",
        "xgb = XGBClassifier()\n",
        "xgb.fit(X_train, y_train)\n",
        "# Accuracy on training data\n",
        "X_train_predict= xgb.predict(X_train)\n",
        "training_data_accuracy=accuracy_score(X_train_predict, y_train)\n",
        "print(f\"Accuracy on Training data: \",training_data_accuracy*100)\n",
        "# Accuracy on test data\n",
        "X_test_predict= xgb.predict(X_test)\n",
        "test_data_accuracy_xgb=accuracy_score(X_test_predict, y_test)\n",
        "print(f\"Accuracy on Test data: \",test_data_accuracy_xgb*100)\n",
        "#Confussion matrix\n",
        "XGB_confusion_matrix=  confusion_matrix(y_test,X_test_predict)\n",
        "print(\"Confusion Matrix\")\n",
        "print(XGB_confusion_matrix)"
      ],
      "metadata": {
        "colab": {
          "base_uri": "https://localhost:8080/"
        },
        "id": "qvssT7hyy2j1",
        "outputId": "df5fcde9-31a8-4582-fa9c-7a0c3b266c7b"
      },
      "execution_count": 200,
      "outputs": [
        {
          "output_type": "stream",
          "name": "stdout",
          "text": [
            "Accuracy on Training data:  85.7381926366679\n",
            "Accuracy on Test data:  74.93802677243431\n",
            "Confusion Matrix\n",
            "[[1450  556]\n",
            " [ 455 1573]]\n"
          ]
        }
      ]
    },
    {
      "cell_type": "markdown",
      "source": [
        "SVM"
      ],
      "metadata": {
        "id": "bbumQIqGznw8"
      }
    },
    {
      "cell_type": "code",
      "source": [
        "m5=\"svc\"\n",
        "svc = SVC(C=5,kernel=\"rbf\")\n",
        "svc.fit(X_train, y_train)\n",
        "# Accuracy on training data\n",
        "X_train_predict= svc.predict(X_train)\n",
        "training_data_accuracy=accuracy_score(X_train_predict, y_train)\n",
        "print(f\"Accuracy on Training data: \",training_data_accuracy*100)\n",
        "# Accuracy on test data\n",
        "X_test_predict= svc.predict(X_test)\n",
        "test_data_accuracy_svc=accuracy_score(X_test_predict, y_test)\n",
        "print(f\"Accuracy on Test data: \",test_data_accuracy_svc*100)\n",
        "#Confussion matrix\n",
        "svc_confusion_matrix =  confusion_matrix(y_test,X_test_predict)\n",
        "print(\"Confusion Matrix\")\n",
        "print(svc_confusion_matrix)"
      ],
      "metadata": {
        "colab": {
          "base_uri": "https://localhost:8080/"
        },
        "id": "yEpzQTJnzhL8",
        "outputId": "9e287614-d857-453c-8efd-9b78b89d1392"
      },
      "execution_count": 201,
      "outputs": [
        {
          "output_type": "stream",
          "name": "stdout",
          "text": [
            "Accuracy on Training data:  79.67645965042766\n",
            "Accuracy on Test data:  75.28507684680218\n",
            "Confusion Matrix\n",
            "[[1411  595]\n",
            " [ 402 1626]]\n"
          ]
        }
      ]
    },
    {
      "cell_type": "markdown",
      "source": [
        "ANN"
      ],
      "metadata": {
        "id": "-1AYeRfR0_id"
      }
    },
    {
      "cell_type": "code",
      "source": [
        "from sklearn.neural_network import MLPClassifier\n",
        "m6=\"ANN\"\n",
        "ann = MLPClassifier (hidden_layer_sizes=(64, 32), max_iter=1000, random_state=42)\n",
        "\n",
        "ann.fit(X_train, y_train)\n",
        "# Accuracy on training data\n",
        "X_train_predict= ann.predict(X_train)\n",
        "training_data_accuracy=accuracy_score(X_train_predict, y_train)\n",
        "print(f\"Accuracy on Training data: \",training_data_accuracy*100)\n",
        "# Accuracy on test data\n",
        "X_test_predict= ann.predict(X_test)\n",
        "test_data_accuracy_ann=accuracy_score(X_test_predict, y_test)\n",
        "print(f\"Accuracy on Test data: \",test_data_accuracy_ann*100)\n",
        "#Confussion matrix\n",
        "ann_confusion_matrix =  confusion_matrix(y_test,X_test_predict)\n",
        "print(\"Confusion Matrix\")\n",
        "print(ann_confusion_matrix)"
      ],
      "metadata": {
        "colab": {
          "base_uri": "https://localhost:8080/"
        },
        "id": "cEXfAG9O1CQE",
        "outputId": "f3124b67-95d4-433a-d80d-1b1fdb0e2447"
      },
      "execution_count": 202,
      "outputs": [
        {
          "output_type": "stream",
          "name": "stdout",
          "text": [
            "Accuracy on Training data:  87.0149993801909\n",
            "Accuracy on Test data:  70.64947942488845\n",
            "Confusion Matrix\n",
            "[[1338  668]\n",
            " [ 516 1512]]\n"
          ]
        }
      ]
    },
    {
      "cell_type": "markdown",
      "source": [
        "AdaBoost"
      ],
      "metadata": {
        "id": "X0BQ96yi4DAM"
      }
    },
    {
      "cell_type": "code",
      "source": [
        "m7=\"AdaBoost\"\n",
        "AdaBoost = AdaBoostClassifier()\n",
        "AdaBoost.fit(X_train, y_train)\n",
        "# Accuracy on training data\n",
        "X_train_predict= AdaBoost.predict(X_train)\n",
        "training_data_accuracy=accuracy_score(X_train_predict, y_train)\n",
        "print(f\"Accuracy on Training data: \",training_data_accuracy*100)\n",
        "# Accuracy on test data\n",
        "X_test_predict= AdaBoost.predict(X_test)\n",
        "test_data_accuracy_AdaBoost=accuracy_score(X_test_predict, y_test)\n",
        "print(f\"Accuracy on Test data: \",test_data_accuracy_AdaBoost*100)\n",
        "#Confussion matrix\n",
        "AdaBoost_confusion_matrix =  confusion_matrix(y_test,X_test_predict)\n",
        "print(\"Confusion Matrix\")\n",
        "print(AdaBoost_confusion_matrix)"
      ],
      "metadata": {
        "colab": {
          "base_uri": "https://localhost:8080/"
        },
        "id": "Q9i4L-l_4Py8",
        "outputId": "f8a81d1b-ad2c-4dcf-bd16-eac47d72bf21"
      },
      "execution_count": 203,
      "outputs": [
        {
          "output_type": "stream",
          "name": "stdout",
          "text": [
            "Accuracy on Training data:  76.43485806371638\n",
            "Accuracy on Test data:  76.17749132374814\n",
            "Confusion Matrix\n",
            "[[1510  496]\n",
            " [ 465 1563]]\n"
          ]
        }
      ]
    },
    {
      "cell_type": "markdown",
      "source": [
        "Decision Tree"
      ],
      "metadata": {
        "id": "JfQcxVyt5s7Z"
      }
    },
    {
      "cell_type": "code",
      "source": [
        "m8 = \"Decision Tree\"\n",
        "dt = DecisionTreeClassifier(max_depth=3)\n",
        "dt.fit(X_train, y_train)\n",
        "# Accuracy on training data\n",
        "X_train_predict= dt.predict(X_train)\n",
        "training_data_accuracy=accuracy_score(X_train_predict, y_train)\n",
        "print(f\"Accuracy on Training data: \",training_data_accuracy*100)\n",
        "# Accuracy on test data\n",
        "X_test_predict= AdaBoost.predict(X_test)\n",
        "test_data_accuracy_dt=accuracy_score(X_test_predict, y_test)\n",
        "print(f\"Accuracy on Test data: \",test_data_accuracy_dt*100)\n",
        "#Confussion matrix\n",
        "dt_confusion_matrix =  confusion_matrix(y_test,X_test_predict)\n",
        "print(\"Confusion Matrix\")\n",
        "print(dt_confusion_matrix)"
      ],
      "metadata": {
        "colab": {
          "base_uri": "https://localhost:8080/"
        },
        "id": "AGXSlHgLBTts",
        "outputId": "c993f7f5-bbe8-4935-d8e4-14ed7f9cbbe3"
      },
      "execution_count": 205,
      "outputs": [
        {
          "output_type": "stream",
          "name": "stdout",
          "text": [
            "Accuracy on Training data:  69.81529688855832\n",
            "Accuracy on Test data:  76.17749132374814\n",
            "Confusion Matrix\n",
            "[[1510  496]\n",
            " [ 465 1563]]\n"
          ]
        }
      ]
    },
    {
      "cell_type": "markdown",
      "source": [
        "**Result**"
      ],
      "metadata": {
        "id": "jnNMHgDQC7UT"
      }
    },
    {
      "cell_type": "code",
      "source": [
        "results = {\"Models\": [m1, m2, m3 ,m4, m5, m6,m7,m8],\n",
        "           \"Accuracy\": [test_data_accuracy_lr, test_data_accuracy_rf,test_data_accuracy_knn, test_data_accuracy_xgb,test_data_accuracy_svc, test_data_accuracy_ann, test_data_accuracy_AdaBoost, test_data_accuracy_dt ]}\n",
        "\n",
        "for (key, value) in results.items():\n",
        "    if key==\"Accuracy\":\n",
        "        results[key]=  [item*100 for item in results[key]]\n",
        "\n",
        "\n",
        "result_df=pd.DataFrame(results)"
      ],
      "metadata": {
        "id": "yUhJQewEC-Mj"
      },
      "execution_count": 206,
      "outputs": []
    },
    {
      "cell_type": "code",
      "source": [
        "result_df"
      ],
      "metadata": {
        "colab": {
          "base_uri": "https://localhost:8080/",
          "height": 300
        },
        "id": "hsjYqOZmEWAs",
        "outputId": "479e9604-5977-4fb6-b798-d51f671c1a01"
      },
      "execution_count": 207,
      "outputs": [
        {
          "output_type": "execute_result",
          "data": {
            "text/plain": [
              "                Models   Accuracy\n",
              "0  Logistic Regression  75.681706\n",
              "1        Random Forest  73.896877\n",
              "2          K-Neighbour  73.698562\n",
              "3                  XGB  74.938027\n",
              "4                  svc  75.285077\n",
              "5                  ANN  70.649479\n",
              "6             AdaBoost  76.177491\n",
              "7        Decision Tree  76.177491"
            ],
            "text/html": [
              "\n",
              "  <div id=\"df-dbe95b1c-1248-4a50-9688-bbbc027ceede\" class=\"colab-df-container\">\n",
              "    <div>\n",
              "<style scoped>\n",
              "    .dataframe tbody tr th:only-of-type {\n",
              "        vertical-align: middle;\n",
              "    }\n",
              "\n",
              "    .dataframe tbody tr th {\n",
              "        vertical-align: top;\n",
              "    }\n",
              "\n",
              "    .dataframe thead th {\n",
              "        text-align: right;\n",
              "    }\n",
              "</style>\n",
              "<table border=\"1\" class=\"dataframe\">\n",
              "  <thead>\n",
              "    <tr style=\"text-align: right;\">\n",
              "      <th></th>\n",
              "      <th>Models</th>\n",
              "      <th>Accuracy</th>\n",
              "    </tr>\n",
              "  </thead>\n",
              "  <tbody>\n",
              "    <tr>\n",
              "      <th>0</th>\n",
              "      <td>Logistic Regression</td>\n",
              "      <td>75.681706</td>\n",
              "    </tr>\n",
              "    <tr>\n",
              "      <th>1</th>\n",
              "      <td>Random Forest</td>\n",
              "      <td>73.896877</td>\n",
              "    </tr>\n",
              "    <tr>\n",
              "      <th>2</th>\n",
              "      <td>K-Neighbour</td>\n",
              "      <td>73.698562</td>\n",
              "    </tr>\n",
              "    <tr>\n",
              "      <th>3</th>\n",
              "      <td>XGB</td>\n",
              "      <td>74.938027</td>\n",
              "    </tr>\n",
              "    <tr>\n",
              "      <th>4</th>\n",
              "      <td>svc</td>\n",
              "      <td>75.285077</td>\n",
              "    </tr>\n",
              "    <tr>\n",
              "      <th>5</th>\n",
              "      <td>ANN</td>\n",
              "      <td>70.649479</td>\n",
              "    </tr>\n",
              "    <tr>\n",
              "      <th>6</th>\n",
              "      <td>AdaBoost</td>\n",
              "      <td>76.177491</td>\n",
              "    </tr>\n",
              "    <tr>\n",
              "      <th>7</th>\n",
              "      <td>Decision Tree</td>\n",
              "      <td>76.177491</td>\n",
              "    </tr>\n",
              "  </tbody>\n",
              "</table>\n",
              "</div>\n",
              "    <div class=\"colab-df-buttons\">\n",
              "\n",
              "  <div class=\"colab-df-container\">\n",
              "    <button class=\"colab-df-convert\" onclick=\"convertToInteractive('df-dbe95b1c-1248-4a50-9688-bbbc027ceede')\"\n",
              "            title=\"Convert this dataframe to an interactive table.\"\n",
              "            style=\"display:none;\">\n",
              "\n",
              "  <svg xmlns=\"http://www.w3.org/2000/svg\" height=\"24px\" viewBox=\"0 -960 960 960\">\n",
              "    <path d=\"M120-120v-720h720v720H120Zm60-500h600v-160H180v160Zm220 220h160v-160H400v160Zm0 220h160v-160H400v160ZM180-400h160v-160H180v160Zm440 0h160v-160H620v160ZM180-180h160v-160H180v160Zm440 0h160v-160H620v160Z\"/>\n",
              "  </svg>\n",
              "    </button>\n",
              "\n",
              "  <style>\n",
              "    .colab-df-container {\n",
              "      display:flex;\n",
              "      gap: 12px;\n",
              "    }\n",
              "\n",
              "    .colab-df-convert {\n",
              "      background-color: #E8F0FE;\n",
              "      border: none;\n",
              "      border-radius: 50%;\n",
              "      cursor: pointer;\n",
              "      display: none;\n",
              "      fill: #1967D2;\n",
              "      height: 32px;\n",
              "      padding: 0 0 0 0;\n",
              "      width: 32px;\n",
              "    }\n",
              "\n",
              "    .colab-df-convert:hover {\n",
              "      background-color: #E2EBFA;\n",
              "      box-shadow: 0px 1px 2px rgba(60, 64, 67, 0.3), 0px 1px 3px 1px rgba(60, 64, 67, 0.15);\n",
              "      fill: #174EA6;\n",
              "    }\n",
              "\n",
              "    .colab-df-buttons div {\n",
              "      margin-bottom: 4px;\n",
              "    }\n",
              "\n",
              "    [theme=dark] .colab-df-convert {\n",
              "      background-color: #3B4455;\n",
              "      fill: #D2E3FC;\n",
              "    }\n",
              "\n",
              "    [theme=dark] .colab-df-convert:hover {\n",
              "      background-color: #434B5C;\n",
              "      box-shadow: 0px 1px 3px 1px rgba(0, 0, 0, 0.15);\n",
              "      filter: drop-shadow(0px 1px 2px rgba(0, 0, 0, 0.3));\n",
              "      fill: #FFFFFF;\n",
              "    }\n",
              "  </style>\n",
              "\n",
              "    <script>\n",
              "      const buttonEl =\n",
              "        document.querySelector('#df-dbe95b1c-1248-4a50-9688-bbbc027ceede button.colab-df-convert');\n",
              "      buttonEl.style.display =\n",
              "        google.colab.kernel.accessAllowed ? 'block' : 'none';\n",
              "\n",
              "      async function convertToInteractive(key) {\n",
              "        const element = document.querySelector('#df-dbe95b1c-1248-4a50-9688-bbbc027ceede');\n",
              "        const dataTable =\n",
              "          await google.colab.kernel.invokeFunction('convertToInteractive',\n",
              "                                                    [key], {});\n",
              "        if (!dataTable) return;\n",
              "\n",
              "        const docLinkHtml = 'Like what you see? Visit the ' +\n",
              "          '<a target=\"_blank\" href=https://colab.research.google.com/notebooks/data_table.ipynb>data table notebook</a>'\n",
              "          + ' to learn more about interactive tables.';\n",
              "        element.innerHTML = '';\n",
              "        dataTable['output_type'] = 'display_data';\n",
              "        await google.colab.output.renderOutput(dataTable, element);\n",
              "        const docLink = document.createElement('div');\n",
              "        docLink.innerHTML = docLinkHtml;\n",
              "        element.appendChild(docLink);\n",
              "      }\n",
              "    </script>\n",
              "  </div>\n",
              "\n",
              "\n",
              "<div id=\"df-d7717e6d-3bdc-4536-b148-56fc67aa3c42\">\n",
              "  <button class=\"colab-df-quickchart\" onclick=\"quickchart('df-d7717e6d-3bdc-4536-b148-56fc67aa3c42')\"\n",
              "            title=\"Suggest charts\"\n",
              "            style=\"display:none;\">\n",
              "\n",
              "<svg xmlns=\"http://www.w3.org/2000/svg\" height=\"24px\"viewBox=\"0 0 24 24\"\n",
              "     width=\"24px\">\n",
              "    <g>\n",
              "        <path d=\"M19 3H5c-1.1 0-2 .9-2 2v14c0 1.1.9 2 2 2h14c1.1 0 2-.9 2-2V5c0-1.1-.9-2-2-2zM9 17H7v-7h2v7zm4 0h-2V7h2v10zm4 0h-2v-4h2v4z\"/>\n",
              "    </g>\n",
              "</svg>\n",
              "  </button>\n",
              "\n",
              "<style>\n",
              "  .colab-df-quickchart {\n",
              "      --bg-color: #E8F0FE;\n",
              "      --fill-color: #1967D2;\n",
              "      --hover-bg-color: #E2EBFA;\n",
              "      --hover-fill-color: #174EA6;\n",
              "      --disabled-fill-color: #AAA;\n",
              "      --disabled-bg-color: #DDD;\n",
              "  }\n",
              "\n",
              "  [theme=dark] .colab-df-quickchart {\n",
              "      --bg-color: #3B4455;\n",
              "      --fill-color: #D2E3FC;\n",
              "      --hover-bg-color: #434B5C;\n",
              "      --hover-fill-color: #FFFFFF;\n",
              "      --disabled-bg-color: #3B4455;\n",
              "      --disabled-fill-color: #666;\n",
              "  }\n",
              "\n",
              "  .colab-df-quickchart {\n",
              "    background-color: var(--bg-color);\n",
              "    border: none;\n",
              "    border-radius: 50%;\n",
              "    cursor: pointer;\n",
              "    display: none;\n",
              "    fill: var(--fill-color);\n",
              "    height: 32px;\n",
              "    padding: 0;\n",
              "    width: 32px;\n",
              "  }\n",
              "\n",
              "  .colab-df-quickchart:hover {\n",
              "    background-color: var(--hover-bg-color);\n",
              "    box-shadow: 0 1px 2px rgba(60, 64, 67, 0.3), 0 1px 3px 1px rgba(60, 64, 67, 0.15);\n",
              "    fill: var(--button-hover-fill-color);\n",
              "  }\n",
              "\n",
              "  .colab-df-quickchart-complete:disabled,\n",
              "  .colab-df-quickchart-complete:disabled:hover {\n",
              "    background-color: var(--disabled-bg-color);\n",
              "    fill: var(--disabled-fill-color);\n",
              "    box-shadow: none;\n",
              "  }\n",
              "\n",
              "  .colab-df-spinner {\n",
              "    border: 2px solid var(--fill-color);\n",
              "    border-color: transparent;\n",
              "    border-bottom-color: var(--fill-color);\n",
              "    animation:\n",
              "      spin 1s steps(1) infinite;\n",
              "  }\n",
              "\n",
              "  @keyframes spin {\n",
              "    0% {\n",
              "      border-color: transparent;\n",
              "      border-bottom-color: var(--fill-color);\n",
              "      border-left-color: var(--fill-color);\n",
              "    }\n",
              "    20% {\n",
              "      border-color: transparent;\n",
              "      border-left-color: var(--fill-color);\n",
              "      border-top-color: var(--fill-color);\n",
              "    }\n",
              "    30% {\n",
              "      border-color: transparent;\n",
              "      border-left-color: var(--fill-color);\n",
              "      border-top-color: var(--fill-color);\n",
              "      border-right-color: var(--fill-color);\n",
              "    }\n",
              "    40% {\n",
              "      border-color: transparent;\n",
              "      border-right-color: var(--fill-color);\n",
              "      border-top-color: var(--fill-color);\n",
              "    }\n",
              "    60% {\n",
              "      border-color: transparent;\n",
              "      border-right-color: var(--fill-color);\n",
              "    }\n",
              "    80% {\n",
              "      border-color: transparent;\n",
              "      border-right-color: var(--fill-color);\n",
              "      border-bottom-color: var(--fill-color);\n",
              "    }\n",
              "    90% {\n",
              "      border-color: transparent;\n",
              "      border-bottom-color: var(--fill-color);\n",
              "    }\n",
              "  }\n",
              "</style>\n",
              "\n",
              "  <script>\n",
              "    async function quickchart(key) {\n",
              "      const quickchartButtonEl =\n",
              "        document.querySelector('#' + key + ' button');\n",
              "      quickchartButtonEl.disabled = true;  // To prevent multiple clicks.\n",
              "      quickchartButtonEl.classList.add('colab-df-spinner');\n",
              "      try {\n",
              "        const charts = await google.colab.kernel.invokeFunction(\n",
              "            'suggestCharts', [key], {});\n",
              "      } catch (error) {\n",
              "        console.error('Error during call to suggestCharts:', error);\n",
              "      }\n",
              "      quickchartButtonEl.classList.remove('colab-df-spinner');\n",
              "      quickchartButtonEl.classList.add('colab-df-quickchart-complete');\n",
              "    }\n",
              "    (() => {\n",
              "      let quickchartButtonEl =\n",
              "        document.querySelector('#df-d7717e6d-3bdc-4536-b148-56fc67aa3c42 button');\n",
              "      quickchartButtonEl.style.display =\n",
              "        google.colab.kernel.accessAllowed ? 'block' : 'none';\n",
              "    })();\n",
              "  </script>\n",
              "</div>\n",
              "    </div>\n",
              "  </div>\n"
            ]
          },
          "metadata": {},
          "execution_count": 207
        }
      ]
    },
    {
      "cell_type": "code",
      "source": [
        "colors = ['red','green','blue','gold','silver','yellow','orange','brown']\n",
        "plt.figure(figsize=(12,5))\n",
        "plt.title(\"barplot Represent Accuracy of different models\")\n",
        "plt.xlabel(\"Accuracy %\")\n",
        "plt.ylabel(\"Algorithms\")\n",
        "plt.bar(result_df['Models'],result_df['Accuracy'],color = colors)\n",
        "plt.show()"
      ],
      "metadata": {
        "colab": {
          "base_uri": "https://localhost:8080/",
          "height": 487
        },
        "id": "t3OshKbqEnWq",
        "outputId": "6ff48424-8259-4a15-f119-e16661fd2a37"
      },
      "execution_count": 208,
      "outputs": [
        {
          "output_type": "display_data",
          "data": {
            "text/plain": [
              "<Figure size 1200x500 with 1 Axes>"
            ],
            "image/png": "[encoded data removed]"
          },
          "metadata": {}
        }
      ]
    }
  ]
}